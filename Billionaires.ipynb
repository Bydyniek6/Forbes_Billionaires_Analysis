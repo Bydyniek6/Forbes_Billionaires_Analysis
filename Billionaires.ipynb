{
 "cells": [
  {
   "attachments": {},
   "cell_type": "markdown",
   "metadata": {},
   "source": [
    "Forbes_Billionaires_Analysis"
   ]
  },
  {
   "attachments": {},
   "cell_type": "markdown",
   "metadata": {},
   "source": [
    "**Importing librari**"
   ]
  },
  {
   "cell_type": "code",
   "execution_count": 1,
   "metadata": {},
   "outputs": [],
   "source": [
    "import numpy as np\n",
    "import pandas as pd \n",
    "import matplotlib.pyplot as plt "
   ]
  },
  {
   "cell_type": "code",
   "execution_count": null,
   "metadata": {},
   "outputs": [],
   "source": [
    "# Colors using in project \n",
    "\n",
    "colors = [\"#54bebe\", \"#76c8c8\", \"#98d1d1\", \"#badbdb\", \"#dedad2\", \"#e4bcad\", \"#df979e\", \"#d7658b\", \"#c80064\"]"
   ]
  },
  {
   "cell_type": "code",
   "execution_count": 3,
   "metadata": {},
   "outputs": [],
   "source": [
    "# Reading data\n",
    "\n",
    "df = pd.read_csv('forbes_billionaires_geo.csv')"
   ]
  },
  {
   "cell_type": "code",
   "execution_count": 4,
   "metadata": {},
   "outputs": [
    {
     "name": "stdout",
     "output_type": "stream",
     "text": [
      "<class 'pandas.core.frame.DataFrame'>\n",
      "RangeIndex: 2755 entries, 0 to 2754\n",
      "Data columns (total 13 columns):\n",
      " #   Column       Non-Null Count  Dtype  \n",
      "---  ------       --------------  -----  \n",
      " 0   Name         2755 non-null   object \n",
      " 1   NetWorth     2755 non-null   float64\n",
      " 2   Country      2755 non-null   object \n",
      " 3   Source       2755 non-null   object \n",
      " 4   Rank         2755 non-null   int64  \n",
      " 5   Age          2630 non-null   float64\n",
      " 6   Residence    2715 non-null   object \n",
      " 7   Citizenship  2739 non-null   object \n",
      " 8   Status       2090 non-null   object \n",
      " 9   Children     1552 non-null   float64\n",
      " 10  Education    1409 non-null   object \n",
      " 11  Self_made    2737 non-null   object \n",
      " 12  geometry     2755 non-null   object \n",
      "dtypes: float64(3), int64(1), object(9)\n",
      "memory usage: 279.9+ KB\n"
     ]
    }
   ],
   "source": [
    "df.info()"
   ]
  },
  {
   "cell_type": "code",
   "execution_count": 5,
   "metadata": {},
   "outputs": [
    {
     "data": {
      "text/plain": [
       "Name              0\n",
       "NetWorth          0\n",
       "Country           0\n",
       "Source            0\n",
       "Rank              0\n",
       "Age             125\n",
       "Residence        40\n",
       "Citizenship      16\n",
       "Status          665\n",
       "Children       1203\n",
       "Education      1346\n",
       "Self_made        18\n",
       "geometry          0\n",
       "dtype: int64"
      ]
     },
     "execution_count": 5,
     "metadata": {},
     "output_type": "execute_result"
    }
   ],
   "source": [
    "df.isnull().sum()"
   ]
  },
  {
   "cell_type": "code",
   "execution_count": 7,
   "metadata": {},
   "outputs": [
    {
     "data": {
      "text/html": [
       "<div>\n",
       "<style scoped>\n",
       "    .dataframe tbody tr th:only-of-type {\n",
       "        vertical-align: middle;\n",
       "    }\n",
       "\n",
       "    .dataframe tbody tr th {\n",
       "        vertical-align: top;\n",
       "    }\n",
       "\n",
       "    .dataframe thead th {\n",
       "        text-align: right;\n",
       "    }\n",
       "</style>\n",
       "<table border=\"1\" class=\"dataframe\">\n",
       "  <thead>\n",
       "    <tr style=\"text-align: right;\">\n",
       "      <th></th>\n",
       "      <th>Name</th>\n",
       "      <th>NetWorth</th>\n",
       "      <th>Country</th>\n",
       "      <th>Source</th>\n",
       "      <th>Rank</th>\n",
       "      <th>Age</th>\n",
       "      <th>Residence</th>\n",
       "      <th>Citizenship</th>\n",
       "      <th>Status</th>\n",
       "      <th>Children</th>\n",
       "      <th>Education</th>\n",
       "      <th>Self_made</th>\n",
       "      <th>geometry</th>\n",
       "    </tr>\n",
       "  </thead>\n",
       "  <tbody>\n",
       "    <tr>\n",
       "      <th>494</th>\n",
       "      <td>Teh Hong Piow</td>\n",
       "      <td>5.7</td>\n",
       "      <td>Malaysia</td>\n",
       "      <td>banking</td>\n",
       "      <td>486</td>\n",
       "      <td>91.0</td>\n",
       "      <td>Kuala Lumpur, Malaysia</td>\n",
       "      <td>Malaysia</td>\n",
       "      <td>Married</td>\n",
       "      <td>4.0</td>\n",
       "      <td>Bachelor of Arts/Science, University of Malaya</td>\n",
       "      <td>True</td>\n",
       "      <td>POINT (101.6942371 3.1516964)</td>\n",
       "    </tr>\n",
       "    <tr>\n",
       "      <th>370</th>\n",
       "      <td>Juan Francisco Beckmann Vidal &amp; family</td>\n",
       "      <td>7.0</td>\n",
       "      <td>Mexico</td>\n",
       "      <td>tequila</td>\n",
       "      <td>369</td>\n",
       "      <td>81.0</td>\n",
       "      <td>Mexico City, Mexico</td>\n",
       "      <td>Mexico</td>\n",
       "      <td>Married</td>\n",
       "      <td>NaN</td>\n",
       "      <td>NaN</td>\n",
       "      <td>False</td>\n",
       "      <td>POINT (-99.1331785 19.4326296)</td>\n",
       "    </tr>\n",
       "    <tr>\n",
       "      <th>2305</th>\n",
       "      <td>Zbigniew Juroszek &amp; family</td>\n",
       "      <td>1.3</td>\n",
       "      <td>Poland</td>\n",
       "      <td>real estate, gambling</td>\n",
       "      <td>2263</td>\n",
       "      <td>58.0</td>\n",
       "      <td>Cieszyn, Poland</td>\n",
       "      <td>Poland</td>\n",
       "      <td>NaN</td>\n",
       "      <td>NaN</td>\n",
       "      <td>NaN</td>\n",
       "      <td>True</td>\n",
       "      <td>POINT (18.6562313 49.7557676)</td>\n",
       "    </tr>\n",
       "    <tr>\n",
       "      <th>1988</th>\n",
       "      <td>Kentaro Ogawa</td>\n",
       "      <td>1.6</td>\n",
       "      <td>Japan</td>\n",
       "      <td>restaurants</td>\n",
       "      <td>1931</td>\n",
       "      <td>72.0</td>\n",
       "      <td>Tokyo, Japan</td>\n",
       "      <td>Japan</td>\n",
       "      <td>Married</td>\n",
       "      <td>NaN</td>\n",
       "      <td>NaN</td>\n",
       "      <td>True</td>\n",
       "      <td>POINT (139.7594549 35.6828387)</td>\n",
       "    </tr>\n",
       "    <tr>\n",
       "      <th>1180</th>\n",
       "      <td>James Jannard</td>\n",
       "      <td>2.7</td>\n",
       "      <td>United States</td>\n",
       "      <td>sunglasses</td>\n",
       "      <td>1174</td>\n",
       "      <td>71.0</td>\n",
       "      <td>San Juan Islands, Washington</td>\n",
       "      <td>United States</td>\n",
       "      <td>Married</td>\n",
       "      <td>4.0</td>\n",
       "      <td>Drop Out, University of Southern California</td>\n",
       "      <td>True</td>\n",
       "      <td>POINT (-118.4630907 33.9809608)</td>\n",
       "    </tr>\n",
       "  </tbody>\n",
       "</table>\n",
       "</div>"
      ],
      "text/plain": [
       "                                        Name  NetWorth        Country  \\\n",
       "494                            Teh Hong Piow       5.7       Malaysia   \n",
       "370   Juan Francisco Beckmann Vidal & family       7.0         Mexico   \n",
       "2305              Zbigniew Juroszek & family       1.3         Poland   \n",
       "1988                           Kentaro Ogawa       1.6          Japan   \n",
       "1180                           James Jannard       2.7  United States   \n",
       "\n",
       "                     Source  Rank   Age                     Residence  \\\n",
       "494                 banking   486  91.0        Kuala Lumpur, Malaysia   \n",
       "370                 tequila   369  81.0           Mexico City, Mexico   \n",
       "2305  real estate, gambling  2263  58.0               Cieszyn, Poland   \n",
       "1988            restaurants  1931  72.0                  Tokyo, Japan   \n",
       "1180             sunglasses  1174  71.0  San Juan Islands, Washington   \n",
       "\n",
       "        Citizenship   Status  Children  \\\n",
       "494        Malaysia  Married       4.0   \n",
       "370          Mexico  Married       NaN   \n",
       "2305         Poland      NaN       NaN   \n",
       "1988          Japan  Married       NaN   \n",
       "1180  United States  Married       4.0   \n",
       "\n",
       "                                           Education Self_made  \\\n",
       "494   Bachelor of Arts/Science, University of Malaya      True   \n",
       "370                                              NaN     False   \n",
       "2305                                             NaN      True   \n",
       "1988                                             NaN      True   \n",
       "1180     Drop Out, University of Southern California      True   \n",
       "\n",
       "                             geometry  \n",
       "494     POINT (101.6942371 3.1516964)  \n",
       "370    POINT (-99.1331785 19.4326296)  \n",
       "2305    POINT (18.6562313 49.7557676)  \n",
       "1988   POINT (139.7594549 35.6828387)  \n",
       "1180  POINT (-118.4630907 33.9809608)  "
      ]
     },
     "execution_count": 7,
     "metadata": {},
     "output_type": "execute_result"
    }
   ],
   "source": [
    "df.sample(5)"
   ]
  },
  {
   "attachments": {},
   "cell_type": "markdown",
   "metadata": {},
   "source": [
    "**Data correction**\n",
    "\n",
    "*Lower letters for all column*\n",
    "\n",
    "*Drop Coulumns: Residence and Citizenship*\n",
    "\n",
    "*Changing Nan to 0*\n"
   ]
  },
  {
   "cell_type": "markdown",
   "metadata": {},
   "source": []
  },
  {
   "cell_type": "code",
   "execution_count": null,
   "metadata": {},
   "outputs": [],
   "source": []
  },
  {
   "cell_type": "code",
   "execution_count": null,
   "metadata": {},
   "outputs": [],
   "source": []
  }
 ],
 "metadata": {
  "kernelspec": {
   "display_name": "Python 3",
   "language": "python",
   "name": "python3"
  },
  "language_info": {
   "codemirror_mode": {
    "name": "ipython",
    "version": 3
   },
   "file_extension": ".py",
   "mimetype": "text/x-python",
   "name": "python",
   "nbconvert_exporter": "python",
   "pygments_lexer": "ipython3",
   "version": "3.11.2"
  },
  "orig_nbformat": 4
 },
 "nbformat": 4,
 "nbformat_minor": 2
}
