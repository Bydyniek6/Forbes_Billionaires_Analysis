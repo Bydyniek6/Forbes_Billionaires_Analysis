{
 "cells": [
  {
   "attachments": {},
   "cell_type": "markdown",
   "metadata": {},
   "source": [
    "***Forbes_Billionaires_Analysis***"
   ]
  },
  {
   "attachments": {},
   "cell_type": "markdown",
   "metadata": {},
   "source": [
    "**Importing librari**"
   ]
  },
  {
   "cell_type": "code",
   "execution_count": 9,
   "metadata": {},
   "outputs": [],
   "source": [
    "import numpy as np\n",
    "import pandas as pd \n",
    "import matplotlib.pyplot as plt\n",
    "\n",
    "import seaborn as sns\n",
    "import seaborn as sns\n",
    "import matplotlib.pyplot as plt\n",
    "from matplotlib.offsetbox import OffsetImage,AnnotationBbox\n",
    "%matplotlib inline\n",
    "import plotly.express as px\n"
   ]
  },
  {
   "cell_type": "code",
   "execution_count": 10,
   "metadata": {},
   "outputs": [],
   "source": [
    "# Colors using in project \n",
    "\n",
    "colors = [\"#54bebe\", \"#76c8c8\", \"#98d1d1\", \"#badbdb\", \"#dedad2\", \"#e4bcad\", \"#df979e\", \"#d7658b\", \"#c80064\"]"
   ]
  },
  {
   "cell_type": "code",
   "execution_count": 11,
   "metadata": {},
   "outputs": [],
   "source": [
    "# Reading data\n",
    "\n",
    "df = pd.read_csv('forbes_billionaires_geo.csv')"
   ]
  },
  {
   "cell_type": "code",
   "execution_count": 12,
   "metadata": {},
   "outputs": [
    {
     "name": "stdout",
     "output_type": "stream",
     "text": [
      "<class 'pandas.core.frame.DataFrame'>\n",
      "RangeIndex: 2755 entries, 0 to 2754\n",
      "Data columns (total 13 columns):\n",
      " #   Column       Non-Null Count  Dtype  \n",
      "---  ------       --------------  -----  \n",
      " 0   Name         2755 non-null   object \n",
      " 1   NetWorth     2755 non-null   float64\n",
      " 2   Country      2755 non-null   object \n",
      " 3   Source       2755 non-null   object \n",
      " 4   Rank         2755 non-null   int64  \n",
      " 5   Age          2630 non-null   float64\n",
      " 6   Residence    2715 non-null   object \n",
      " 7   Citizenship  2739 non-null   object \n",
      " 8   Status       2090 non-null   object \n",
      " 9   Children     1552 non-null   float64\n",
      " 10  Education    1409 non-null   object \n",
      " 11  Self_made    2737 non-null   object \n",
      " 12  geometry     2755 non-null   object \n",
      "dtypes: float64(3), int64(1), object(9)\n",
      "memory usage: 279.9+ KB\n"
     ]
    }
   ],
   "source": [
    "df.info()"
   ]
  },
  {
   "cell_type": "code",
   "execution_count": 13,
   "metadata": {},
   "outputs": [
    {
     "data": {
      "text/plain": [
       "Name              0\n",
       "NetWorth          0\n",
       "Country           0\n",
       "Source            0\n",
       "Rank              0\n",
       "Age             125\n",
       "Residence        40\n",
       "Citizenship      16\n",
       "Status          665\n",
       "Children       1203\n",
       "Education      1346\n",
       "Self_made        18\n",
       "geometry          0\n",
       "dtype: int64"
      ]
     },
     "execution_count": 13,
     "metadata": {},
     "output_type": "execute_result"
    }
   ],
   "source": [
    "df.isnull().sum()"
   ]
  },
  {
   "cell_type": "code",
   "execution_count": 14,
   "metadata": {},
   "outputs": [
    {
     "data": {
      "text/html": [
       "<div>\n",
       "<style scoped>\n",
       "    .dataframe tbody tr th:only-of-type {\n",
       "        vertical-align: middle;\n",
       "    }\n",
       "\n",
       "    .dataframe tbody tr th {\n",
       "        vertical-align: top;\n",
       "    }\n",
       "\n",
       "    .dataframe thead th {\n",
       "        text-align: right;\n",
       "    }\n",
       "</style>\n",
       "<table border=\"1\" class=\"dataframe\">\n",
       "  <thead>\n",
       "    <tr style=\"text-align: right;\">\n",
       "      <th></th>\n",
       "      <th>Name</th>\n",
       "      <th>NetWorth</th>\n",
       "      <th>Country</th>\n",
       "      <th>Source</th>\n",
       "      <th>Rank</th>\n",
       "      <th>Age</th>\n",
       "      <th>Residence</th>\n",
       "      <th>Citizenship</th>\n",
       "      <th>Status</th>\n",
       "      <th>Children</th>\n",
       "      <th>Education</th>\n",
       "      <th>Self_made</th>\n",
       "      <th>geometry</th>\n",
       "    </tr>\n",
       "  </thead>\n",
       "  <tbody>\n",
       "    <tr>\n",
       "      <th>692</th>\n",
       "      <td>Martin Lau</td>\n",
       "      <td>4.2</td>\n",
       "      <td>Hong Kong</td>\n",
       "      <td>e-commerce</td>\n",
       "      <td>680</td>\n",
       "      <td>48.0</td>\n",
       "      <td>Hong Kong, Hong Kong</td>\n",
       "      <td>Hong Kong</td>\n",
       "      <td>NaN</td>\n",
       "      <td>NaN</td>\n",
       "      <td>Master of Business Administration, Kellogg Sch...</td>\n",
       "      <td>True</td>\n",
       "      <td>POINT (114.1628131 22.2793278)</td>\n",
       "    </tr>\n",
       "    <tr>\n",
       "      <th>884</th>\n",
       "      <td>Julia Thiele-Schuerhoff</td>\n",
       "      <td>3.5</td>\n",
       "      <td>Germany</td>\n",
       "      <td>brakes</td>\n",
       "      <td>859</td>\n",
       "      <td>NaN</td>\n",
       "      <td>NaN</td>\n",
       "      <td>Germany</td>\n",
       "      <td>NaN</td>\n",
       "      <td>NaN</td>\n",
       "      <td>NaN</td>\n",
       "      <td>False</td>\n",
       "      <td>POINT (10.4234469 51.0834196)</td>\n",
       "    </tr>\n",
       "    <tr>\n",
       "      <th>144</th>\n",
       "      <td>Mike Cannon-Brookes</td>\n",
       "      <td>14.2</td>\n",
       "      <td>Australia</td>\n",
       "      <td>software</td>\n",
       "      <td>145</td>\n",
       "      <td>41.0</td>\n",
       "      <td>Sydney, Australia</td>\n",
       "      <td>Australia</td>\n",
       "      <td>Married</td>\n",
       "      <td>2.0</td>\n",
       "      <td>Bachelor of Arts/Science, University of New So...</td>\n",
       "      <td>True</td>\n",
       "      <td>POINT (151.0979607 -33.8641922)</td>\n",
       "    </tr>\n",
       "    <tr>\n",
       "      <th>2363</th>\n",
       "      <td>Xia Shudong</td>\n",
       "      <td>1.3</td>\n",
       "      <td>China</td>\n",
       "      <td>IT service</td>\n",
       "      <td>2263</td>\n",
       "      <td>48.0</td>\n",
       "      <td>Beijing, China</td>\n",
       "      <td>China</td>\n",
       "      <td>NaN</td>\n",
       "      <td>NaN</td>\n",
       "      <td>Doctorate, Beijing University</td>\n",
       "      <td>True</td>\n",
       "      <td>POINT (116.3912757 39.906217)</td>\n",
       "    </tr>\n",
       "    <tr>\n",
       "      <th>2356</th>\n",
       "      <td>Tang Zhuang</td>\n",
       "      <td>1.3</td>\n",
       "      <td>United States</td>\n",
       "      <td>electronics</td>\n",
       "      <td>2263</td>\n",
       "      <td>48.0</td>\n",
       "      <td>Wuxi, China</td>\n",
       "      <td>United States</td>\n",
       "      <td>NaN</td>\n",
       "      <td>NaN</td>\n",
       "      <td>Bachelor of Arts/Science, Peking University; D...</td>\n",
       "      <td>True</td>\n",
       "      <td>POINT (120.3074357 31.4933074)</td>\n",
       "    </tr>\n",
       "  </tbody>\n",
       "</table>\n",
       "</div>"
      ],
      "text/plain": [
       "                         Name  NetWorth        Country       Source  Rank  \\\n",
       "692                Martin Lau       4.2      Hong Kong   e-commerce   680   \n",
       "884   Julia Thiele-Schuerhoff       3.5        Germany       brakes   859   \n",
       "144       Mike Cannon-Brookes      14.2      Australia     software   145   \n",
       "2363              Xia Shudong       1.3          China   IT service  2263   \n",
       "2356              Tang Zhuang       1.3  United States  electronics  2263   \n",
       "\n",
       "       Age             Residence    Citizenship   Status  Children  \\\n",
       "692   48.0  Hong Kong, Hong Kong      Hong Kong      NaN       NaN   \n",
       "884    NaN                   NaN        Germany      NaN       NaN   \n",
       "144   41.0     Sydney, Australia      Australia  Married       2.0   \n",
       "2363  48.0        Beijing, China          China      NaN       NaN   \n",
       "2356  48.0           Wuxi, China  United States      NaN       NaN   \n",
       "\n",
       "                                              Education Self_made  \\\n",
       "692   Master of Business Administration, Kellogg Sch...      True   \n",
       "884                                                 NaN     False   \n",
       "144   Bachelor of Arts/Science, University of New So...      True   \n",
       "2363                      Doctorate, Beijing University      True   \n",
       "2356  Bachelor of Arts/Science, Peking University; D...      True   \n",
       "\n",
       "                             geometry  \n",
       "692    POINT (114.1628131 22.2793278)  \n",
       "884     POINT (10.4234469 51.0834196)  \n",
       "144   POINT (151.0979607 -33.8641922)  \n",
       "2363    POINT (116.3912757 39.906217)  \n",
       "2356   POINT (120.3074357 31.4933074)  "
      ]
     },
     "execution_count": 14,
     "metadata": {},
     "output_type": "execute_result"
    }
   ],
   "source": [
    "df.sample(5)"
   ]
  },
  {
   "attachments": {},
   "cell_type": "markdown",
   "metadata": {},
   "source": [
    "**Data correction**\n",
    "\n",
    "*Lower letters for all column*\n",
    "\n",
    "*Drop Coulumns: Residence and Citizenship*\n",
    "\n",
    "*Changing Nan to 0*\n"
   ]
  },
  {
   "cell_type": "code",
   "execution_count": 15,
   "metadata": {},
   "outputs": [],
   "source": [
    "def column_update(name):\n",
    "    return name.lower().replace('_', '')"
   ]
  },
  {
   "cell_type": "code",
   "execution_count": 16,
   "metadata": {},
   "outputs": [],
   "source": [
    "df = df.fillna(0)"
   ]
  },
  {
   "cell_type": "code",
   "execution_count": 20,
   "metadata": {},
   "outputs": [
    {
     "data": {
      "text/html": [
       "<div>\n",
       "<style scoped>\n",
       "    .dataframe tbody tr th:only-of-type {\n",
       "        vertical-align: middle;\n",
       "    }\n",
       "\n",
       "    .dataframe tbody tr th {\n",
       "        vertical-align: top;\n",
       "    }\n",
       "\n",
       "    .dataframe thead th {\n",
       "        text-align: right;\n",
       "    }\n",
       "</style>\n",
       "<table border=\"1\" class=\"dataframe\">\n",
       "  <thead>\n",
       "    <tr style=\"text-align: right;\">\n",
       "      <th></th>\n",
       "      <th>name</th>\n",
       "      <th>networth</th>\n",
       "      <th>country</th>\n",
       "      <th>source</th>\n",
       "      <th>rank</th>\n",
       "      <th>age</th>\n",
       "      <th>status</th>\n",
       "      <th>children</th>\n",
       "      <th>education</th>\n",
       "      <th>selfmade</th>\n",
       "      <th>geometry</th>\n",
       "    </tr>\n",
       "  </thead>\n",
       "  <tbody>\n",
       "    <tr>\n",
       "      <th>0</th>\n",
       "      <td>Jeff Bezos</td>\n",
       "      <td>177.0</td>\n",
       "      <td>United States</td>\n",
       "      <td>Amazon</td>\n",
       "      <td>1</td>\n",
       "      <td>57.0</td>\n",
       "      <td>In Relationship</td>\n",
       "      <td>4.0</td>\n",
       "      <td>Bachelor of Arts/Science, Princeton University</td>\n",
       "      <td>True</td>\n",
       "      <td>POINT (-122.3300624 47.6038321)</td>\n",
       "    </tr>\n",
       "    <tr>\n",
       "      <th>1</th>\n",
       "      <td>Elon Musk</td>\n",
       "      <td>151.0</td>\n",
       "      <td>United States</td>\n",
       "      <td>Tesla, SpaceX</td>\n",
       "      <td>2</td>\n",
       "      <td>49.0</td>\n",
       "      <td>In Relationship</td>\n",
       "      <td>7.0</td>\n",
       "      <td>Bachelor of Arts/Science, University of Pennsy...</td>\n",
       "      <td>True</td>\n",
       "      <td>POINT (-97.74369950000001 30.2711286)</td>\n",
       "    </tr>\n",
       "    <tr>\n",
       "      <th>2</th>\n",
       "      <td>Bernard Arnault &amp; family</td>\n",
       "      <td>150.0</td>\n",
       "      <td>France</td>\n",
       "      <td>LVMH</td>\n",
       "      <td>3</td>\n",
       "      <td>72.0</td>\n",
       "      <td>Married</td>\n",
       "      <td>5.0</td>\n",
       "      <td>Bachelor of Arts/Science, Ecole Polytechnique ...</td>\n",
       "      <td>False</td>\n",
       "      <td>POINT (2.3514616 48.8566969)</td>\n",
       "    </tr>\n",
       "    <tr>\n",
       "      <th>3</th>\n",
       "      <td>Bill Gates</td>\n",
       "      <td>124.0</td>\n",
       "      <td>United States</td>\n",
       "      <td>Microsoft</td>\n",
       "      <td>4</td>\n",
       "      <td>65.0</td>\n",
       "      <td>Divorced</td>\n",
       "      <td>3.0</td>\n",
       "      <td>Drop Out, Harvard University</td>\n",
       "      <td>True</td>\n",
       "      <td>POINT (-122.2264453 47.620548)</td>\n",
       "    </tr>\n",
       "    <tr>\n",
       "      <th>4</th>\n",
       "      <td>Mark Zuckerberg</td>\n",
       "      <td>97.0</td>\n",
       "      <td>United States</td>\n",
       "      <td>Facebook</td>\n",
       "      <td>5</td>\n",
       "      <td>36.0</td>\n",
       "      <td>Married</td>\n",
       "      <td>2.0</td>\n",
       "      <td>Drop Out, Harvard University</td>\n",
       "      <td>True</td>\n",
       "      <td>POINT (-122.1598465 37.4443293)</td>\n",
       "    </tr>\n",
       "    <tr>\n",
       "      <th>...</th>\n",
       "      <td>...</td>\n",
       "      <td>...</td>\n",
       "      <td>...</td>\n",
       "      <td>...</td>\n",
       "      <td>...</td>\n",
       "      <td>...</td>\n",
       "      <td>...</td>\n",
       "      <td>...</td>\n",
       "      <td>...</td>\n",
       "      <td>...</td>\n",
       "      <td>...</td>\n",
       "    </tr>\n",
       "    <tr>\n",
       "      <th>2750</th>\n",
       "      <td>Daniel Yong Zhang</td>\n",
       "      <td>1.0</td>\n",
       "      <td>China</td>\n",
       "      <td>e-commerce</td>\n",
       "      <td>2674</td>\n",
       "      <td>49.0</td>\n",
       "      <td>0</td>\n",
       "      <td>0.0</td>\n",
       "      <td>0</td>\n",
       "      <td>True</td>\n",
       "      <td>POINT (120.2052342 30.2489634)</td>\n",
       "    </tr>\n",
       "    <tr>\n",
       "      <th>2751</th>\n",
       "      <td>Zhang Yuqiang</td>\n",
       "      <td>1.0</td>\n",
       "      <td>China</td>\n",
       "      <td>Fiberglass</td>\n",
       "      <td>2674</td>\n",
       "      <td>65.0</td>\n",
       "      <td>0</td>\n",
       "      <td>0.0</td>\n",
       "      <td>0</td>\n",
       "      <td>True</td>\n",
       "      <td>POINT (120.5610365 30.6316971)</td>\n",
       "    </tr>\n",
       "    <tr>\n",
       "      <th>2752</th>\n",
       "      <td>Zhao Meiguang</td>\n",
       "      <td>1.0</td>\n",
       "      <td>China</td>\n",
       "      <td>gold mining</td>\n",
       "      <td>2674</td>\n",
       "      <td>58.0</td>\n",
       "      <td>0</td>\n",
       "      <td>0.0</td>\n",
       "      <td>0</td>\n",
       "      <td>True</td>\n",
       "      <td>POINT (125.9816054 42.9995032)</td>\n",
       "    </tr>\n",
       "    <tr>\n",
       "      <th>2753</th>\n",
       "      <td>Zhong Naixiong</td>\n",
       "      <td>1.0</td>\n",
       "      <td>China</td>\n",
       "      <td>conglomerate</td>\n",
       "      <td>2674</td>\n",
       "      <td>58.0</td>\n",
       "      <td>0</td>\n",
       "      <td>0.0</td>\n",
       "      <td>0</td>\n",
       "      <td>True</td>\n",
       "      <td>POINT (113.1146335 23.0247687)</td>\n",
       "    </tr>\n",
       "    <tr>\n",
       "      <th>2754</th>\n",
       "      <td>Zhou Wei family</td>\n",
       "      <td>1.0</td>\n",
       "      <td>China</td>\n",
       "      <td>Software</td>\n",
       "      <td>2674</td>\n",
       "      <td>54.0</td>\n",
       "      <td>Married</td>\n",
       "      <td>0.0</td>\n",
       "      <td>0</td>\n",
       "      <td>True</td>\n",
       "      <td>POINT (121.4692071 31.2322758)</td>\n",
       "    </tr>\n",
       "  </tbody>\n",
       "</table>\n",
       "<p>2755 rows × 11 columns</p>\n",
       "</div>"
      ],
      "text/plain": [
       "                          name  networth        country         source  rank  \\\n",
       "0                   Jeff Bezos     177.0  United States         Amazon     1   \n",
       "1                    Elon Musk     151.0  United States  Tesla, SpaceX     2   \n",
       "2     Bernard Arnault & family     150.0         France           LVMH     3   \n",
       "3                   Bill Gates     124.0  United States      Microsoft     4   \n",
       "4              Mark Zuckerberg      97.0  United States       Facebook     5   \n",
       "...                        ...       ...            ...            ...   ...   \n",
       "2750         Daniel Yong Zhang       1.0          China     e-commerce  2674   \n",
       "2751             Zhang Yuqiang       1.0          China     Fiberglass  2674   \n",
       "2752             Zhao Meiguang       1.0          China    gold mining  2674   \n",
       "2753            Zhong Naixiong       1.0          China   conglomerate  2674   \n",
       "2754           Zhou Wei family       1.0          China       Software  2674   \n",
       "\n",
       "       age           status  children  \\\n",
       "0     57.0  In Relationship       4.0   \n",
       "1     49.0  In Relationship       7.0   \n",
       "2     72.0          Married       5.0   \n",
       "3     65.0         Divorced       3.0   \n",
       "4     36.0          Married       2.0   \n",
       "...    ...              ...       ...   \n",
       "2750  49.0                0       0.0   \n",
       "2751  65.0                0       0.0   \n",
       "2752  58.0                0       0.0   \n",
       "2753  58.0                0       0.0   \n",
       "2754  54.0          Married       0.0   \n",
       "\n",
       "                                              education selfmade  \\\n",
       "0        Bachelor of Arts/Science, Princeton University     True   \n",
       "1     Bachelor of Arts/Science, University of Pennsy...     True   \n",
       "2     Bachelor of Arts/Science, Ecole Polytechnique ...    False   \n",
       "3                          Drop Out, Harvard University     True   \n",
       "4                          Drop Out, Harvard University     True   \n",
       "...                                                 ...      ...   \n",
       "2750                                                  0     True   \n",
       "2751                                                  0     True   \n",
       "2752                                                  0     True   \n",
       "2753                                                  0     True   \n",
       "2754                                                  0     True   \n",
       "\n",
       "                                   geometry  \n",
       "0           POINT (-122.3300624 47.6038321)  \n",
       "1     POINT (-97.74369950000001 30.2711286)  \n",
       "2              POINT (2.3514616 48.8566969)  \n",
       "3            POINT (-122.2264453 47.620548)  \n",
       "4           POINT (-122.1598465 37.4443293)  \n",
       "...                                     ...  \n",
       "2750         POINT (120.2052342 30.2489634)  \n",
       "2751         POINT (120.5610365 30.6316971)  \n",
       "2752         POINT (125.9816054 42.9995032)  \n",
       "2753         POINT (113.1146335 23.0247687)  \n",
       "2754         POINT (121.4692071 31.2322758)  \n",
       "\n",
       "[2755 rows x 11 columns]"
      ]
     },
     "execution_count": 20,
     "metadata": {},
     "output_type": "execute_result"
    }
   ],
   "source": [
    "def data_update(df):\n",
    "    return(df\n",
    "           .rename(columns=column_update)\n",
    "           .drop(['residence', 'citizenship'], axis = 1)\n",
    "           )\n",
    "\n",
    "df2 = data_update(df)\n",
    "df2"
   ]
  },
  {
   "attachments": {},
   "cell_type": "markdown",
   "metadata": {},
   "source": [
    "**Country with the most Billionaires**\n"
   ]
  },
  {
   "cell_type": "code",
   "execution_count": 18,
   "metadata": {},
   "outputs": [
    {
     "data": {
      "text/plain": [
       "70"
      ]
     },
     "execution_count": 18,
     "metadata": {},
     "output_type": "execute_result"
    }
   ],
   "source": [
    "df2.country.nunique()\n"
   ]
  },
  {
   "cell_type": "code",
   "execution_count": 19,
   "metadata": {},
   "outputs": [
    {
     "data": {
      "text/plain": [
       "United States     724\n",
       "China             626\n",
       "India             140\n",
       "Germany           136\n",
       "Russia            118\n",
       "Hong Kong          71\n",
       "Brazil             65\n",
       "Canada             64\n",
       "United Kingdom     56\n",
       "Italy              51\n",
       "Japan              49\n",
       "Taiwan             47\n",
       "Australia          44\n",
       "South Korea        43\n",
       "France             42\n",
       "Sweden             41\n",
       "Switzerland        40\n",
       "Thailand           31\n",
       "Spain              30\n",
       "Turkey             27\n",
       "Name: country, dtype: int64"
      ]
     },
     "execution_count": 19,
     "metadata": {},
     "output_type": "execute_result"
    }
   ],
   "source": [
    "df2.country.value_counts().head(20)\n"
   ]
  },
  {
   "cell_type": "code",
   "execution_count": 21,
   "metadata": {},
   "outputs": [
    {
     "data": {
      "image/png": "[encoded data removed]",
      "text/plain": [
       "<Figure size 640x480 with 1 Axes>"
      ]
     },
     "metadata": {},
     "output_type": "display_data"
    }
   ],
   "source": [
    "Countries = df2.country.value_counts().head(10).index.tolist()\n",
    "\n",
    "sns.countplot(data=df2, y='country', orient='h', order=df2.country.value_counts().head(10).index, palette='rocket', alpha=0.9)\n",
    "sns.despine(left=True, bottom=True)\n",
    "\n",
    "plt.title('Top 10 Countries with most billionares', size=34, weight=\"bold\",x=0.40, family = \"Arial\", y=1.03)\n",
    "plt.ylabel(\"\")\n",
    "plt.xlabel(\"\")\n",
    "plt.yticks(size=20, weight=\"bold\", x=-0.1, color=\"#005a9b\")\n",
    "plt.xticks([])\n",
    "plt.tick_params(left=False)\n",
    "\n",
    "\n"
   ]
  },
  {
   "attachments": {},
   "cell_type": "markdown",
   "metadata": {},
   "source": [
    "**How many of the billionares are self made?**"
   ]
  },
  {
   "cell_type": "code",
   "execution_count": 31,
   "metadata": {},
   "outputs": [
    {
     "data": {
      "text/plain": [
       "True     1960\n",
       "False     795\n",
       "Name: selfmade, dtype: int64"
      ]
     },
     "execution_count": 31,
     "metadata": {},
     "output_type": "execute_result"
    }
   ],
   "source": [
    "df2.selfmade.value_counts(dropna=False)"
   ]
  },
  {
   "cell_type": "code",
   "execution_count": 32,
   "metadata": {},
   "outputs": [
    {
     "data": {
      "text/plain": [
       "True     71.143376\n",
       "False    28.856624\n",
       "Name: selfmade, dtype: float64"
      ]
     },
     "execution_count": 32,
     "metadata": {},
     "output_type": "execute_result"
    }
   ],
   "source": [
    "df2.selfmade.value_counts(dropna=False, normalize=True).mul(100)"
   ]
  },
  {
   "cell_type": "code",
   "execution_count": 34,
   "metadata": {},
   "outputs": [
    {
     "data": {
      "text/plain": [
       "[Text(0, 0, '795'), Text(0, 0, '1960')]"
      ]
     },
     "execution_count": 34,
     "metadata": {},
     "output_type": "execute_result"
    },
    {
     "data": {
      "image/png": "[encoded data removed]",
      "text/plain": [
       "<Figure size 2500x1000 with 1 Axes>"
      ]
     },
     "metadata": {},
     "output_type": "display_data"
    }
   ],
   "source": [
    "fig, ax = plt.subplots(figsize=(25, 10), facecolor='#EFF5F5')\n",
    "\n",
    "sns.countplot(data=df2, y='selfmade', orient='h', palette='rocket', alpha=0.9)\n",
    "sns.despine(left=True, bottom=True)\n",
    "\n",
    "plt.title('* How many of the billionares are self made? *', size=34, weight=\"bold\", family = \"Arial\", y=1.03)\n",
    "plt.ylabel(\"\")\n",
    "plt.xlabel(\"\")\n",
    "plt.yticks([False, True],['Not self made', 'Self made'],size=20, weight=\"bold\", color=\"#005a9b\", ha='left', x=-0.12)\n",
    "plt.xticks([])\n",
    "plt.tick_params(left=False)\n",
    "\n",
    "ax.set_facecolor('#EFF5F5')\n",
    "ax.bar_label(container=ax.containers[0],size=34,weight=\"bold\",color='white',label_type='center')"
   ]
  },
  {
   "cell_type": "code",
   "execution_count": null,
   "metadata": {},
   "outputs": [],
   "source": []
  }
 ],
 "metadata": {
  "kernelspec": {
   "display_name": "Python 3",
   "language": "python",
   "name": "python3"
  },
  "language_info": {
   "codemirror_mode": {
    "name": "ipython",
    "version": 3
   },
   "file_extension": ".py",
   "mimetype": "text/x-python",
   "name": "python",
   "nbconvert_exporter": "python",
   "pygments_lexer": "ipython3",
   "version": "3.11.2"
  },
  "orig_nbformat": 4
 },
 "nbformat": 4,
 "nbformat_minor": 2
}
